{
 "cells": [
  {
   "cell_type": "markdown",
   "metadata": {},
   "source": [
    "## Trading BOT with Ale and Interactive Broker\n",
    "\n",
    "### This document have the goal to develop a python bot, able to interact with a demo account on ibrk.\n",
    "\n",
    "Motivation to use ibrk:\n",
    "- safe broker\n",
    "- many assets\n",
    "- low fees\n",
    "- good liquidity and low slippage\n",
    "- mature and stable API\n",
    "\n",
    "First of all we need the following ingredients:\n",
    "- API\n",
    "- Gateway\n",
    "- The bot must be able to run on a cloud\n",
    "\n",
    "[Video](http://youtube.me/tradingbotconale)\n",
    "\n"
   ]
  },
  {
   "cell_type": "markdown",
   "metadata": {},
   "source": [
    "### Connection example and fetch of historical data, sync example and async example"
   ]
  },
  {
   "cell_type": "code",
   "execution_count": 1,
   "metadata": {},
   "outputs": [
    {
     "data": {
      "text/plain": [
       "<IB connected to 127.0.0.1:7497 clientId=5>"
      ]
     },
     "execution_count": 1,
     "metadata": {},
     "output_type": "execute_result"
    }
   ],
   "source": [
    "# Connection snippet\n",
    "\n",
    "from ib_insync import *\n",
    "util.startLoop()  #needed to run ibrk api with jupyter\n",
    "ib = IB()\n",
    "ib.connect('127.0.0.1', 7497, clientId=5)"
   ]
  },
  {
   "cell_type": "markdown",
   "metadata": {},
   "source": [
    "### Fetch micro nqcontract quotes ticker MNQ"
   ]
  },
  {
   "cell_type": "code",
   "execution_count": null,
   "metadata": {},
   "outputs": [],
   "source": [
    "import pandas as pd\n",
    "\n",
    "mnq_contract = Future('MNQ', '20250321', 'CME', multiplier=2, currency='USD')\n",
    "\n",
    "def get_pandas_data_from_ibrk(ibrk_bars):\n",
    "    df = pd.DataFrame([bar.__dict__ for bar in ibrk_bars], columns=['date', 'open', 'high', 'low', 'close', 'volume'])\n",
    "    df.rename(columns={\"date\": \"datetime\"}, inplace=True)\n",
    "    df.set_index('datetime', inplace=True)\n",
    "    df.index = pd.to_datetime(df.index)\n",
    "    return df\n",
    "\n",
    "def getHistoricalData(contract, candles = 1, tf_min = 10):\n",
    "  data_type = \"MIDPOINT\" if contract.symbol == 'EUR' else \"TRADES\"\n",
    "  duration_seconds = 60 * candles * tf_min\n",
    "  # WORKAROUND: if market is open ONLY, we should add delayed data offset otherwise return nodata\n",
    "  duration_offset_for_delayed_data = 15*60\n",
    "  duration_seconds += duration_offset_for_delayed_data\n",
    "\n",
    "  duration = f\"{duration_seconds // 84600} D\" if duration_seconds > 84600 else f\"{duration_seconds} S\"\n",
    "  bars = ib.reqHistoricalData(\n",
    "      contract,\n",
    "      endDateTime=\"\",\n",
    "      durationStr=duration,\n",
    "      barSizeSetting=f\"{tf_min} min\" if tf_min == 1 else f\"{tf_min} mins\",\n",
    "      whatToShow=data_type,\n",
    "      useRTH=False\n",
    "  )\n",
    "\n",
    "  return get_pandas_data_from_ibrk(bars)\n",
    "\n",
    "data = getHistoricalData(mnq_contract, 1, 10)\n",
    "data.tail()\n"
   ]
  },
  {
   "cell_type": "markdown",
   "metadata": {},
   "source": [
    "#### [getHistoricalData](https://interactivebrokers.github.io/tws-api/classIBApi_1_1EClient.html#aad87a15294377608e59aec1d87420594) is the fetch API\n",
    "\n",
    "It's available with demo account, instead realtime APIs are not available.\n",
    "\n",
    "The last candle is a realtime candle, when is complete, a new candle is added. Therefore the last canlde is always a reatime canlde as the previous is the last closed candle.\n",
    "\n",
    "This is very importat to implment a data provider to simulate live data."
   ]
  },
  {
   "cell_type": "markdown",
   "metadata": {},
   "source": [
    "## [Backtrader](https://www.backtrader.com/docu): Open source project ready to run a strategy on IBRK.\n",
    "  - Backtrader is old but a stable project that provide a ready API to interacts wit IBRK. The latest available API is not the one provided with the official documentation but is available by an open source project on [git-hub](https://github.com/atreyuxtrading/atreyu-backtrader-api)\n",
    "  - Backtrader require realtime data but with ibrk demo account is not possible use realtime API. Realtime method give bad response.\n",
    "  - APIs to fetch historical data are allowed but data are delayed.\n",
    "  - Delayed data obtained by the APIs are consistent whit the chart and price on the TWS workstation, so it's possible run a strategy in paper-trading.\n",
    "  - We need to implement a custom data provider that use historical data APIs and is compatible with backtrader interface.\n",
    "  "
   ]
  },
  {
   "cell_type": "markdown",
   "metadata": {},
   "source": [
    "### Backtrader RSI long only strategy on micro nasdaq MNQ"
   ]
  },
  {
   "cell_type": "code",
   "execution_count": null,
   "metadata": {},
   "outputs": [],
   "source": [
    "# backtrader strategy example: long only, buy when rsi > 60, sell when rsi < 40\n",
    "\n",
    "import backtrader as bt\n",
    "import warnings\n",
    "warnings.filterwarnings('ignore')\n",
    "\n",
    "class RsiLongStrategy(bt.Strategy):\n",
    "\n",
    "    def log(self, txt, dt=None):\n",
    "            dt = dt or self.datas[0].datetime.date(0)\n",
    "            print('%s, %s' % (dt.isoformat(), txt))\n",
    "\n",
    "    def __init__(self):\n",
    "        self.rsi = bt.indicators.RSI_SMA(self.data.close, period=21)\n",
    "\n",
    "    def next(self):\n",
    "        if self.rsi > 60 and self.position.size == 0:\n",
    "            self.log('BUY CREATE, %.2f' % self.data.close[0])\n",
    "            self.buy()\n",
    "\n",
    "        elif self.rsi < 40 and self.position.size > 0:\n",
    "            self.sell()\n",
    "\n",
    "    def notify(self, order):\n",
    "            if order.status in [order.Submitted, order.Accepted]:\n",
    "                return\n",
    "            if order.status in [order.Completed, order.Canceled, order.Margin]:\n",
    "                if order.isbuy():\n",
    "                    self.log(f'BUY EXECUTED, Price: {order.executed.price:.2f} Cost: {order.executed.value:.2f} Comm {order.executed.comm:.2f}')\n",
    "                else:\n",
    "                    self.log(f'SELL EXECUTED, Price: {order.executed.price:.2f} Cost: {order.executed.value:.2f} Comm {order.executed.comm:.2f}')\n",
    "\n",
    "\n",
    "ibrk_data = getHistoricalData(mnq_contract, candles = 3000, tf_min = 10)\n",
    "data = bt.feeds.PandasData(dataname=ibrk_data)\n",
    "\n",
    "cerebro = bt.Cerebro()\n",
    "cerebro.broker.setcash(10000.0)\n",
    "cerebro.broker.setcommission(commission=0.77, margin=2000.0, mult=2.0)\n",
    "cerebro.adddata(data)\n",
    "cerebro.addstrategy(RsiLongStrategy)\n",
    "result = cerebro.run()\n",
    "cerebro.plot(iplot=False)"
   ]
  },
  {
   "cell_type": "markdown",
   "metadata": {},
   "source": [
    "## Extend backtrader datafeed to use ibrk APIs available on demo account\n",
    "- [backtrader documentation](https://www.backtrader.com/docu/extending-a-datafeed/)\n",
    "- The implementation use ibrk python api available [here](https://ib-insync.readthedocs.io/)\n"
   ]
  },
  {
   "cell_type": "code",
   "execution_count": null,
   "metadata": {},
   "outputs": [],
   "source": [
    "import threading\n",
    "import time\n",
    "import pandas as pd\n",
    "from datetime import datetime\n",
    "\n",
    "# Initialize an empty DataFrame\n",
    "live_data = pd.DataFrame(columns=['open', 'high', 'low', 'close', 'volume'])\n",
    "\n",
    "# Lock for thread-safe access to live_data\n",
    "data_lock = threading.Lock()\n",
    "\n",
    "\n",
    "# Initialize IB client\n",
    "\n",
    "# Define contracts\n",
    "dax_contract = Future('DAX', '20250321', 'EUREX', multiplier=1)\n",
    "# eur_usd_contract = Forex('EURUSD')\n",
    "# mnq_contract = Future('MNQ', '20250321', 'CME', multiplier=2, currency=\"USD\")  # Update expiry as needed\n",
    "\n",
    "\n",
    "def fetch_next_bar(contract, data, tf_min = 10):\n",
    "    ''' return the next finalized candle that we don't have in the global live_data dataframe.\n",
    "        Because the ibrk api return the last available candle that is the real time candle (also with delayed data)\n",
    "        We should check that the candle before the last is a new candle, in this case fetch_next_bar return the new confirmed candle.\n",
    "    '''\n",
    "    # get last two candles\n",
    "    last_candles = getHistoricalData(contract, 2, tf_min)\n",
    "\n",
    "    # Ensure we have the required data\n",
    "    if len(last_candles) < 2:\n",
    "        return\n",
    "\n",
    "    # The second-to-last candle is the most recently confirmed historical candle\n",
    "    finalized_candle = last_candles.iloc[-2]\n",
    "    finalized_candle_time = last_candles.index[-2]\n",
    "\n",
    "    # Check if this finalized candle is new\n",
    "    if data.empty or finalized_candle_time > data.index[-1]:\n",
    "        # Return the finalized candle\n",
    "        return {\n",
    "            'datetime': finalized_candle_time,\n",
    "            'open': finalized_candle.open,\n",
    "            'high': finalized_candle.high,\n",
    "            'low': finalized_candle.low,\n",
    "            'close': finalized_candle.close,\n",
    "            'volume': finalized_candle.volume,\n",
    "        }\n",
    "\n",
    "    # No new confirmed candle\n",
    "    return None\n",
    "\n",
    "\n",
    "def fetch_live_data(contract, tf_min):\n",
    "    global live_data\n",
    "    print(f\"fetch timeframe {tf_min}\")\n",
    "    while True:\n",
    "        try:\n",
    "\n",
    "            # Fetch the next confirmed candle\n",
    "            new_bar = fetch_next_bar(contract, live_data, tf_min)\n",
    "\n",
    "            if new_bar:\n",
    "                print(f\"New bar: {new_bar}\")\n",
    "                new_data = pd.DataFrame([new_bar]).set_index('datetime')\n",
    "                with data_lock:\n",
    "                    live_data = pd.concat([live_data, new_data]) if not live_data.empty else new_data\n",
    "\n",
    "        except Exception as e:\n",
    "            print(f\"Error in fetch_live_data: {e}\")\n",
    "\n",
    "        time.sleep(15)  # Fetch data every minute\n",
    "\n",
    "# use when market is open for dax_contract or change contract\n",
    "# in this you see other contract instances\n",
    "fetch_live_data(dax_contract, 1)"
   ]
  },
  {
   "cell_type": "code",
   "execution_count": 9,
   "metadata": {},
   "outputs": [],
   "source": [
    "# python data provider using python threading API\n",
    "\n",
    "import time\n",
    "import backtrader as bt\n",
    "\n",
    "class PandasLiveData(bt.feed.DataBase):\n",
    "    params = (\n",
    "        ('timeframe', bt.TimeFrame.Minutes),  # Adjust timeframe\n",
    "        ('compression', 1),\n",
    "    )\n",
    "\n",
    "    def __init__(self):\n",
    "        super().__init__()\n",
    "        self.current_index = 0\n",
    "        self.terminate = False  # Flag to indicate when to stop\n",
    "\n",
    "    def start(self):\n",
    "        super().start()\n",
    "\n",
    "    def islive(self):\n",
    "        return True  # Inform Backtrader this is a live feed\n",
    "\n",
    "    def _load(self):\n",
    "        global live_data\n",
    "\n",
    "        while True:\n",
    "            with data_lock:\n",
    "                if self.terminate:\n",
    "                    return False  # Stop processing if terminate is set\n",
    "\n",
    "                if self.current_index < len(live_data):\n",
    "                    row = live_data.iloc[self.current_index]\n",
    "                    self.current_index += 1\n",
    "                    break\n",
    "\n",
    "            time.sleep(0.1)  # Wait briefly before retrying\n",
    "\n",
    "        if not isinstance(row.name, datetime):\n",
    "            raise ValueError(\"The index of the data must be a datetime object.\")\n",
    "\n",
    "        self.lines.datetime[0] = bt.date2num(row.name)\n",
    "        self.lines.open[0] = row['open']\n",
    "        self.lines.high[0] = row['high']\n",
    "        self.lines.low[0] = row['low']\n",
    "        self.lines.close[0] = row['close']\n",
    "        self.lines.volume[0] = row['volume']\n",
    "\n",
    "        return True"
   ]
  },
  {
   "cell_type": "code",
   "execution_count": 10,
   "metadata": {},
   "outputs": [],
   "source": [
    "# test strategy, just print la bar received by data provider\n",
    "\n",
    "import backtrader as bt\n",
    "\n",
    "class TestStrategy(bt.Strategy):\n",
    "    def __init__(self):\n",
    "      pass\n",
    "\n",
    "    def next(self):\n",
    "        print(f\"New bar: {self.datas[0]}\")\n",
    "        # put here logic to trade"
   ]
  },
  {
   "cell_type": "code",
   "execution_count": null,
   "metadata": {},
   "outputs": [],
   "source": [
    "global live_data\n",
    "import asyncio\n",
    "\n",
    "asyncio.create_task(fetch_live_data(dax_contract, 1))\n",
    "\n",
    "cerebro = bt.Cerebro()\n",
    "pandas_live_data = PandasLiveData()\n",
    "pandas_live_data.data = live_data\n",
    "cerebro.adddata(pandas_live_data)\n",
    "cerebro.addstrategy(TestStrategy)\n",
    "cerebro.run()"
   ]
  },
  {
   "cell_type": "markdown",
   "metadata": {},
   "source": [
    "# Bot implementation to run the RsiLongStrategy"
   ]
  },
  {
   "cell_type": "code",
   "execution_count": null,
   "metadata": {},
   "outputs": [],
   "source": [
    "global live_data\n",
    "import asyncio\n",
    "\n",
    "asyncio.create_task(fetch_live_data(mnq_contract, 10))\n",
    "\n",
    "cerebro = bt.Cerebro()\n",
    "pandas_live_data = PandasLiveData()\n",
    "pandas_live_data.data = live_data\n",
    "cerebro.adddata(pandas_live_data)\n",
    "cerebro.addstrategy(RsiLongStrategy)\n",
    "cerebro.run()"
   ]
  }
 ],
 "metadata": {
  "authors": [
   {
    "name": "Alessandro Arrabito - www.tradingbotconale.it"
   }
  ],
  "kernelspec": {
   "display_name": "Python 3 (ipykernel)",
   "language": "python",
   "name": "python3"
  },
  "language_info": {
   "codemirror_mode": {
    "name": "ipython",
    "version": 3
   },
   "file_extension": ".py",
   "mimetype": "text/x-python",
   "name": "python",
   "nbconvert_exporter": "python",
   "pygments_lexer": "ipython3",
   "version": "3.8.10"
  }
 },
 "nbformat": 4,
 "nbformat_minor": 2
}
